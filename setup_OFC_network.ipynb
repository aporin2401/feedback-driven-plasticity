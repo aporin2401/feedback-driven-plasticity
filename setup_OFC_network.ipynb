{
 "cells": [
  {
   "cell_type": "code",
   "execution_count": 1,
   "id": "3d8d4925-1050-437b-a0af-5f39d8b162e3",
   "metadata": {},
   "outputs": [],
   "source": [
    "#!/usr/bin/env python3 3.7.4 project3 env\n",
    "# -*- coding: utf-8 -*-\n",
    "\"\"\"\n",
    "Runs initial training of network model.\n",
    "\"\"\"\n",
    "\n",
    "import numpy as np\n",
    "import torch\n",
    "import torch.nn as nn\n",
    "import torch.optim as optim\n",
    "from collections import OrderedDict\n",
    "from pathlib import Path\n",
    "from dataset import create_data_velocity_centeroutreach, \\\n",
    "                    create_data_velocity_random, \\\n",
    "                        perturb\n",
    "from modeldef import RNN,test"
   ]
  },
  {
   "cell_type": "code",
   "execution_count": null,
   "id": "d2b5b004-fc34-4369-ac7f-d2717cc60ff9",
   "metadata": {},
   "outputs": [],
   "source": []
  }
 ],
 "metadata": {
  "kernelspec": {
   "display_name": "Python 3 (ipykernel)",
   "language": "python",
   "name": "python3"
  },
  "language_info": {
   "codemirror_mode": {
    "name": "ipython",
    "version": 3
   },
   "file_extension": ".py",
   "mimetype": "text/x-python",
   "name": "python",
   "nbconvert_exporter": "python",
   "pygments_lexer": "ipython3",
   "version": "3.11.11"
  }
 },
 "nbformat": 4,
 "nbformat_minor": 5
}
